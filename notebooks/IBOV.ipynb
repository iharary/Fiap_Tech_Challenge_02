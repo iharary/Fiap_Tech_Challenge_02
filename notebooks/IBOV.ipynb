{
 "cells": [
  {
   "cell_type": "code",
   "execution_count": 22,
   "metadata": {},
   "outputs": [],
   "source": [
    "import pandas as pd\n",
    "import numpy as np \n",
    "import warnings\n",
    "import yfinance as yf\n",
    "import matplotlib.pyplot as plt\n",
    "import seaborn as sns\n",
    "from statsmodels.tsa.seasonal import seasonal_decompose\n",
    "from statsmodels.tsa.stattools import acf, pacf\n",
    "\n",
    "warnings.filterwarnings(\"ignore\")\n"
   ]
  },
  {
   "cell_type": "code",
   "execution_count": 14,
   "metadata": {},
   "outputs": [
    {
     "name": "stderr",
     "output_type": "stream",
     "text": [
      "[*********************100%%**********************]  1 of 1 completed\n"
     ]
    },
    {
     "data": {
      "text/plain": [
       "Date\n",
       "2023-01-02    106376.0\n",
       "2023-01-03    104166.0\n",
       "2023-01-04    105334.0\n",
       "2023-01-05    107518.0\n",
       "2023-01-06    108836.0\n",
       "                ...   \n",
       "2023-12-21    132182.0\n",
       "2023-12-22    132753.0\n",
       "2023-12-26    133533.0\n",
       "2023-12-27    134194.0\n",
       "2023-12-28    134185.0\n",
       "Name: Close, Length: 248, dtype: float64"
      ]
     },
     "execution_count": 14,
     "metadata": {},
     "output_type": "execute_result"
    }
   ],
   "source": [
    "ticker = '^BVSP'\n",
    "df = yf.download(ticker, start='2023-01-01', end='2024-01-01')\n",
    "\n",
    "df_close = df['Close']\n"
   ]
  },
  {
   "cell_type": "code",
   "execution_count": 19,
   "metadata": {},
   "outputs": [
    {
     "data": {
      "text/plain": [
       "Date\n",
       "2023-01-02    106376.0\n",
       "2023-01-03    104166.0\n",
       "2023-01-04    105334.0\n",
       "2023-01-05    107518.0\n",
       "2023-01-06    108836.0\n",
       "2023-01-09    109227.0\n",
       "2023-01-10    110912.0\n",
       "2023-01-11    111763.0\n",
       "2023-01-12    111877.0\n",
       "2023-01-13    110916.0\n",
       "Name: Close, dtype: float64"
      ]
     },
     "execution_count": 19,
     "metadata": {},
     "output_type": "execute_result"
    }
   ],
   "source": [
    "df_close.head(10)"
   ]
  },
  {
   "cell_type": "code",
   "execution_count": 21,
   "metadata": {},
   "outputs": [],
   "source": [
    "df_decompose = seasonal_decompose(df_close, period=30)\n"
   ]
  },
  {
   "cell_type": "code",
   "execution_count": null,
   "metadata": {},
   "outputs": [],
   "source": [
    "fig, (ax1,ax2,ax3,ax4) = plt.subplots(4,1, figsize = (15,10))\n",
    "\n",
    "df_decompose.observed.plot(ax=ax1)\n",
    "df_decompose.trend.plot(ax=ax2)\n",
    "df_decompose.seasonal.plot(ax=ax3)\n",
    "df_decompose.resid.plot(ax=ax4)"
   ]
  }
 ],
 "metadata": {
  "kernelspec": {
   "display_name": "Python 3",
   "language": "python",
   "name": "python3"
  },
  "language_info": {
   "codemirror_mode": {
    "name": "ipython",
    "version": 3
   },
   "file_extension": ".py",
   "mimetype": "text/x-python",
   "name": "python",
   "nbconvert_exporter": "python",
   "pygments_lexer": "ipython3",
   "version": "3.12.1"
  }
 },
 "nbformat": 4,
 "nbformat_minor": 2
}
